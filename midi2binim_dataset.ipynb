{
  "nbformat": 4,
  "nbformat_minor": 0,
  "metadata": {
    "colab": {
      "provenance": []
    },
    "kernelspec": {
      "name": "python3",
      "display_name": "Python 3"
    },
    "language_info": {
      "name": "python"
    }
  },
  "cells": [
    {
      "cell_type": "markdown",
      "source": [
        "# From MIDI Files to Binary Images\n",
        "\n",
        "This notebook presents an implementation of a function designed to process a compressed file named ```midi_dataset.zip```. This compressed file contains a directory consisting of MIDI files. The output of this function is intended to result in a compressed file named ```dataset.zip```, containing a dataset of binary representations of piano rolls in the form of images.\n",
        "\n",
        "Additionally, this proposal incorporates the consideration of employing data augmentation techniques to enhance the richness of the aforementioned dataset.\n",
        "\n",
        " We acknowledge that a significant portion of the development effort invested in this notebook is derived from [here](https://medium.com/analytics-vidhya/convert-midi-file-to-numpy-array-in-python-7d00531890c).\n"
      ],
      "metadata": {
        "id": "zsOOgd7kJ3jP"
      }
    },
    {
      "cell_type": "code",
      "execution_count": null,
      "metadata": {
        "id": "3dCPDS67AYpD"
      },
      "outputs": [],
      "source": [
        "pip install mido"
      ]
    },
    {
      "cell_type": "code",
      "source": [
        "import mido\n",
        "import string\n",
        "import numpy as np\n",
        "from PIL import Image\n",
        "import os"
      ],
      "metadata": {
        "id": "dU5m4YkcAk1S"
      },
      "execution_count": null,
      "outputs": []
    },
    {
      "cell_type": "code",
      "source": [
        "!unzip midi_dataset.zip"
      ],
      "metadata": {
        "id": "12yiUlBiAnko"
      },
      "execution_count": null,
      "outputs": []
    },
    {
      "cell_type": "markdown",
      "source": [
        "## Auxiliary Functions\n",
        "\n",
        "The following functions are used to convert MIDI files to binary arrays. These functions have been adapted for our purposes. For further details on what exactly they do, interested readers are directed to consult the original work [here](https://medium.com/analytics-vidhya/convert-midi-file-to-numpy-array-in-python-7d00531890c)."
      ],
      "metadata": {
        "id": "zwkecQIeOmHu"
      }
    },
    {
      "cell_type": "code",
      "source": [
        "def msg2dict(msg,step=60):\n",
        "    result = dict()\n",
        "    if 'note_on' in msg:\n",
        "        on_ = True\n",
        "    elif 'note_off' in msg:\n",
        "        on_ = False\n",
        "    else:\n",
        "        on_ = None\n",
        "    result['time'] = round(int(msg[msg.rfind('time'):].split(' ')[0].split('=')[1].translate(\n",
        "        str.maketrans({a: None for a in string.punctuation})))/step)\n",
        "\n",
        "    if on_ is not None:\n",
        "        for k in ['note', 'velocity']:\n",
        "            result[k] = int(msg[msg.rfind(k):].split(' ')[0].split('=')[1].translate(\n",
        "                str.maketrans({a: None for a in string.punctuation})))\n",
        "    return [result, on_]"
      ],
      "metadata": {
        "id": "M9eSZ5lYApGY"
      },
      "execution_count": null,
      "outputs": []
    },
    {
      "cell_type": "code",
      "source": [
        "def correct_velocity(vel):\n",
        "  if vel==0:\n",
        "    return 0\n",
        "  else: return 1\n",
        "\n",
        "def switch_note(last_state, note, velocity, on_=True,offset=0):\n",
        "    # piano has 88 notes, corresponding to note id 21 to 108, any note out of this range will be ignored\n",
        "    result = [0] * 88 if last_state is None else last_state.copy()\n",
        "    if 21 <= note+offset <= 108:\n",
        "        result[note-21+offset] = correct_velocity(velocity) if on_ else 0\n",
        "    return result"
      ],
      "metadata": {
        "id": "5x6Mauu8ArdS"
      },
      "execution_count": null,
      "outputs": []
    },
    {
      "cell_type": "code",
      "source": [
        "def get_new_state(new_msg, last_state,offset=0,step=60):\n",
        "    new_msg, on_ = msg2dict(str(new_msg),step=step)\n",
        "    new_state = switch_note(last_state, note=new_msg['note'], velocity=new_msg['velocity'], on_=on_,offset=offset) if on_ is not None else last_state\n",
        "    return [new_state, new_msg['time']]\n",
        "def track2seq(track,offset=0,step=60):\n",
        "    # piano has 88 notes, corresponding to note id 21 to 108, any note out of the id range will be ignored\n",
        "    result = []\n",
        "    last_state, last_time = get_new_state(str(track[0]), [0]*88,offset,step=step)\n",
        "    result += ([0]*88)*last_time\n",
        "    for i in range(1, len(track)):\n",
        "        new_state, new_time = get_new_state(track[i], last_state,offset)\n",
        "        if new_time > 0:\n",
        "            result += [last_state]*new_time\n",
        "        last_state, last_time = new_state, new_time\n",
        "    return result"
      ],
      "metadata": {
        "id": "u6zzYo8KAuaQ"
      },
      "execution_count": null,
      "outputs": []
    },
    {
      "cell_type": "code",
      "source": [
        "def mid2arry(mid, min_msg_pct=0.1,offset=0,step=60):\n",
        "    tracks_len = [len(tr) for tr in mid.tracks]\n",
        "    min_n_msg = max(tracks_len) * min_msg_pct\n",
        "    # convert each track to nested list\n",
        "    all_arys = []\n",
        "    for i in range(len(mid.tracks)):\n",
        "        if len(mid.tracks[i]) > min_n_msg:\n",
        "            ary_i = track2seq(mid.tracks[i],offset=offset,step=step)\n",
        "            all_arys.append(ary_i)\n",
        "    # make all nested list the same length\n",
        "    max_len = max([len(ary) for ary in all_arys])\n",
        "    for i in range(len(all_arys)):\n",
        "        if len(all_arys[i]) < max_len:\n",
        "            all_arys[i] += [[0] * 88] * (max_len - len(all_arys[i]))\n",
        "    all_arys = np.asarray(dtype=np.dtype('uint8'),a=all_arys)\n",
        "    all_arys = all_arys.max(axis=0)\n",
        "    return all_arys"
      ],
      "metadata": {
        "id": "5obnKVdaAyzQ"
      },
      "execution_count": null,
      "outputs": []
    },
    {
      "cell_type": "markdown",
      "source": [
        "## Function ```make_dataset```\n",
        "\n",
        "The function that produces the binary image dataset. The parameters are used to determine different aspects of the images produced, as well as some data augmenting techniques. The parameters are:\n",
        "- **step:** Midi files have a certain number of ticks per note (in the dataset provided there are 120 ticks in a semiquaver - or the sixteenth note). The step indicates the accuracy of the midi file that we want to maintain. The default value of the step is 60, meaning having accuracy up to the demisemiquaver - or the thirty-second note.\n",
        "- **span:** The length of the sequence used for each image - the number of pixels of the time axis in the piano roll. Default value is 192, which means that an image contains 6 measures of a piece written in 4/4, when the step is 60.\n",
        "- **overlap:** This is a parameter for data augmentation. It indicates the degree that the images overlap. If overlap=0, there is no overlap. For overlap=1 then each image starts from the half of the previous image, for overlap=2 from the one third etc. Default value is 0 - no overlap.\n",
        "- **offsets:** This is a parameter for data augmentation. It is a list of the intervals (in number of semitones) to transpose each midi file before making the images. Default value is [0] - just one time without transposing.\n",
        "- **halfs:** This is a parameter for data augmentation. It is a list of the times that we want to half the speed (or double the length of the piece), before making the images. Default value is [0] - just one time at the original speed."
      ],
      "metadata": {
        "id": "5ssW1sO6BVrw"
      }
    },
    {
      "cell_type": "code",
      "source": [
        "def make_dataset(step=60,span=192,overlap=0,offsets=[0],halfs=[0]):\n",
        "  os.makedirs('dataset')\n",
        "  for midifile in os.listdir('midi_dataset'):\n",
        "      f = os.path.join('midi_dataset', midifile)\n",
        "      mid = mido.MidiFile(f, clip=True)\n",
        "\n",
        "      arrays=[]\n",
        "      for offset in offsets:\n",
        "        array = mid2arry(mid=mid,offset=offset,step=step)\n",
        "        for half in halfs:\n",
        "          if half==0:arrays.append(array)\n",
        "          else:\n",
        "            arrays.append(np.repeat(array,[2**(half)]*array.shape[0],axis=0))\n",
        "\n",
        "      ofc=0\n",
        "      hac=0\n",
        "      for result_array in arrays:\n",
        "        for i in range(0,result_array.shape[0]-1,int(span/(overlap+1))):\n",
        "          if i+span>result_array.shape[0]: continue\n",
        "          temp=((result_array)[i:i+span,0:88])*255\n",
        "          img = Image.fromarray(temp,mode='L').convert('1')\n",
        "          img.save('dataset/'+midifile[0:len(midifile)-4]+'Of'+str(offsets[ofc])+'Ha'+str(halfs[hac])+'Seg'+str(int(i/(span/(overlap+1))))+'.png')\n",
        "        hac+=1\n",
        "        if hac==len(halfs):\n",
        "          ofc+=1\n",
        "          hac=0\n",
        "\n",
        "  !zip -r '/content/dataset.zip' './dataset'"
      ],
      "metadata": {
        "id": "SyijjZ-yA3hI"
      },
      "execution_count": null,
      "outputs": []
    }
  ]
}